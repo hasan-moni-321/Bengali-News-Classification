{
  "nbformat": 4,
  "nbformat_minor": 0,
  "metadata": {
    "colab": {
      "name": "bengali_news_with_title.ipynb",
      "provenance": [],
      "collapsed_sections": [],
      "toc_visible": true
    },
    "kernelspec": {
      "name": "python3",
      "display_name": "Python 3"
    },
    "accelerator": "GPU"
  },
  "cells": [
    {
      "cell_type": "code",
      "metadata": {
        "id": "yaDI5TW5JAWI"
      },
      "source": [
        ""
      ],
      "execution_count": null,
      "outputs": []
    },
    {
      "cell_type": "code",
      "metadata": {
        "id": "7UQZ70idGV_8"
      },
      "source": [
        "import json\n",
        "import numpy as np\n",
        "import pandas as pd\n",
        "import matplotlib.pyplot as plt\n",
        "import seaborn as sns\n",
        "\n",
        "from collections import Counter\n",
        "from math import exp\n",
        "\n",
        "from sklearn.preprocessing import LabelEncoder, OneHotEncoder\n",
        "from sklearn.model_selection import StratifiedShuffleSplit\n",
        "from sklearn.metrics import confusion_matrix\n",
        "\n",
        "from keras.preprocessing.text import Tokenizer\n",
        "from keras.preprocessing.sequence import pad_sequences\n",
        "from keras.models import Sequential\n",
        "from keras.layers import Embedding, LSTM, Bidirectional, Dropout, Dense\n",
        "from keras.callbacks import LearningRateScheduler, EarlyStopping\n",
        "from keras.models import load_model\n",
        "from keras.utils.vis_utils import plot_model\n",
        "from keras.regularizers import l2\n"
      ],
      "execution_count": null,
      "outputs": []
    },
    {
      "cell_type": "code",
      "metadata": {
        "id": "mSMdB7CzGnDo"
      },
      "source": [
        ""
      ],
      "execution_count": null,
      "outputs": []
    },
    {
      "cell_type": "markdown",
      "metadata": {
        "id": "e2jymLjHWzLm"
      },
      "source": [
        "### Reading dataset"
      ]
    },
    {
      "cell_type": "code",
      "metadata": {
        "id": "K-FQTE6pGnGQ"
      },
      "source": [
        "# df = pd.read_json (r'/content/drive/My Drive/Colab Folder/data.json')\n",
        "\n",
        "with open('/content/drive/My Drive/Colab Folder/data.json', encoding='utf-8') as fh:\n",
        "    data = json.load(fh)"
      ],
      "execution_count": null,
      "outputs": []
    },
    {
      "cell_type": "code",
      "metadata": {
        "id": "KW2NKbYMGnJW",
        "outputId": "e7193968-8c24-45ae-fdc0-ad8a5f287e83",
        "colab": {
          "base_uri": "https://localhost:8080/",
          "height": 211
        }
      },
      "source": [
        "data[0]"
      ],
      "execution_count": null,
      "outputs": [
        {
          "output_type": "execute_result",
          "data": {
            "text/plain": [
              "{'author': 'গাজীপুর প্রতিনিধি',\n",
              " 'category': 'bangladesh',\n",
              " 'category_bn': 'বাংলাদেশ',\n",
              " 'comment_count': 0,\n",
              " 'content': 'গাজীপুরের কালিয়াকৈর উপজেলার তেলিরচালা এলাকায় আজ বৃহস্পতিবার রাতের টিফিন খেয়ে একটি পোশাক কারখানার ৫০০ শ্রমিক অসুস্থ হয়ে পড়েছেন। এ ঘটনায় বিক্ষোভ করেছেন ওই কারখানার শ্রমিকেরা।সফিপুর মডার্ন হাসপাতালের জরুরি বিভাগের চিকিত্সক আল আমিন প্রথম আলো ডটকমকে বলেন, খাদ্যে বিষক্রিয়ায় তাঁরা (শ্রমিকেরা) অসুস্থ হয়ে পড়েছেন। এতে আতঙ্কিত হওয়ার কিছু নেই। অসুস্থদের চিকিত্সা দেওয়া হয়েছে।কারখানার শ্রমিক ও পুলিশ সূত্রে জানা যায়, উপজেলার তেলিরচালা এলাকার সেজাদ সোয়েটার লিমিটেড কারখানার শ্রমিকদের আজ রাত সাড়ে সাতটার দিকে টিফিন দেওয়া হয়। টিফিনে ছিল ডিম, রুটি, পেটিস ও কলা। টিফিন খেয়ে শ্রমিকেরা যথারীতি কাজে যোগ দেন। ওই টিফিন খাওয়ার প্রায় এক ঘণ্টা পর রাত সাড়ে আটটার দিকে কয়েকজন শ্রমিকের বমি ও পেট ব্যথা শুরু হয়। এরপর ধীরে ধীরে পুরো কারখানার শ্রমিকেরা অসুস্থ হতে থাকে। অনেকেই কারখানার মেঝেতে ঢলে পড়ে। এতে পাঁচ শতাধিক শ্রমিক অসুস্থ হয়ে পড়ে।পরে কারখানা কর্তৃপক্ষ দ্রুত যানবাহনের ব্যবস্থা করে তাদের সফিপুর জেনারেল হাসপাতাল, সফিপুর মডার্ন হাসপাতাল, উপজেলা স্বাস্থ্য কমপ্লেক্সসহ বিভিন্ন ক্লিনিকে ভর্তি করে। বাসি পচা খাবার দেওয়ায় শ্রমিকরা ক্ষুব্ধ হয়ে কারখানার সামনে বিক্ষোভ করে। খবর পেয়ে পুলিশ গিয়ে শ্রমিকদের বুঝিয়ে ও খাবার সরবরাহ প্রতিষ্ঠানের বিরুদ্ধে ব্যবস্থা নেওয়ার আশ্বাস দিলে শ্রমিকেরা শান্ত হয়।সফিপুর জেনারেল হাসপাতালে ভর্তি শ্রমিক জাকির হোসেন ও আসমা আক্তার বলেন, টিফিন খাওয়ার সময় ডিম ও কেক থেকে দুর্গন্ধ বের হচ্ছিল। এ কারণে অনেকেই ওই খাবার খায়নি। তবে বেশির ভাগ শ্রমিকই ওই খাবার খেয়েছে।কারখানার সহকারী উত্পাদন কর্মকর্তা (এপিএম) বছির উদ্দিন বলেন, টিফিনগুলি যে ঠিকাদারি প্রতিষ্ঠান কারখানায় সরবরাহ করে তাদের বিরুদ্ধে ব্যবস্থা নেওয়া হবে।মৌচাক পুলিশ ফাঁড়ির উপ-পরিদর্শক (এসআই) সৈয়দ আজহারুল ইসলাম প্রথম আলো ডটকমকে বলেন, শ্রমিকদের বুঝিয়ে শান্ত করা হয়েছে। এ ছাড়া কারখানা কর্তৃপক্ষকে খাদ্য সরবরাহ প্রতিষ্ঠানের বিরুদ্ধে ব্যবস্থা নিতে বলা হয়েছে।',\n",
              " 'modification_date': '০৪ জুলাই ২০১৩, ২৩:২৭',\n",
              " 'published_date': '০৪ জুলাই ২০১৩, ২৩:২৬',\n",
              " 'tag': ['গাজীপুর'],\n",
              " 'title': 'কালিয়াকৈরে টিফিন খেয়ে ৫০০ শ্রমিক অসুস্থ, বিক্ষোভ',\n",
              " 'url': 'http://www.prothom-alo.com/bangladesh/article/19030'}"
            ]
          },
          "metadata": {
            "tags": []
          },
          "execution_count": 35
        }
      ]
    },
    {
      "cell_type": "code",
      "metadata": {
        "id": "t9IgJAViGnMx",
        "outputId": "ee6d719b-df2f-4927-a875-e7cdf28d26d9",
        "colab": {
          "base_uri": "https://localhost:8080/",
          "height": 34
        }
      },
      "source": [
        "length_dataset  = len(data)\n",
        "length_dataset"
      ],
      "execution_count": null,
      "outputs": [
        {
          "output_type": "execute_result",
          "data": {
            "text/plain": [
              "437948"
            ]
          },
          "metadata": {
            "tags": []
          },
          "execution_count": 36
        }
      ]
    },
    {
      "cell_type": "markdown",
      "metadata": {
        "id": "DDlJjrswWcQv"
      },
      "source": [
        "### Unique Category"
      ]
    },
    {
      "cell_type": "code",
      "metadata": {
        "id": "h0ghp1orHBI0",
        "outputId": "299a5173-3609-4c51-e1be-6f028f24df7d",
        "colab": {
          "base_uri": "https://localhost:8080/",
          "height": 573
        }
      },
      "source": [
        "# unique categories\n",
        "unique_category = set([cat['category'] for cat in data])\n",
        "unique_category"
      ],
      "execution_count": null,
      "outputs": [
        {
          "output_type": "execute_result",
          "data": {
            "text/plain": [
              "{'-1',\n",
              " '22221',\n",
              " 'AskEditor',\n",
              " 'bangladesh',\n",
              " 'bondhushava',\n",
              " 'bs-events',\n",
              " 'chakri-bakri',\n",
              " 'demo-content',\n",
              " 'diverse',\n",
              " 'durporobash',\n",
              " 'economy',\n",
              " 'education',\n",
              " 'entertainment',\n",
              " 'events',\n",
              " 'facebook',\n",
              " 'international',\n",
              " 'kishoralo',\n",
              " 'life-style',\n",
              " 'mpaward1',\n",
              " 'nagorik-kantho',\n",
              " 'northamerica',\n",
              " 'onnoalo',\n",
              " 'opinion',\n",
              " 'pachmisheli',\n",
              " 'protichinta',\n",
              " 'roshalo',\n",
              " 'special-supplement',\n",
              " 'sports',\n",
              " 'tarunno',\n",
              " 'technology',\n",
              " 'trust',\n",
              " 'we-are'}"
            ]
          },
          "metadata": {
            "tags": []
          },
          "execution_count": 37
        }
      ]
    },
    {
      "cell_type": "code",
      "metadata": {
        "id": "ZczuOm5tHBL6",
        "outputId": "457e43eb-a3b4-46e3-8460-20502070a55f",
        "colab": {
          "base_uri": "https://localhost:8080/",
          "height": 34
        }
      },
      "source": [
        "# Length of unique category\n",
        "len(unique_category)"
      ],
      "execution_count": null,
      "outputs": [
        {
          "output_type": "execute_result",
          "data": {
            "text/plain": [
              "32"
            ]
          },
          "metadata": {
            "tags": []
          },
          "execution_count": 38
        }
      ]
    },
    {
      "cell_type": "code",
      "metadata": {
        "id": "vHc2yV_oYZlq",
        "outputId": "16359e09-e30b-4384-8667-443bd2646cdd",
        "colab": {
          "base_uri": "https://localhost:8080/",
          "height": 34
        }
      },
      "source": [
        "all_cat= [cat['category'] for cat in data] \n",
        "len(all_cat)"
      ],
      "execution_count": null,
      "outputs": [
        {
          "output_type": "execute_result",
          "data": {
            "text/plain": [
              "437948"
            ]
          },
          "metadata": {
            "tags": []
          },
          "execution_count": 39
        }
      ]
    },
    {
      "cell_type": "code",
      "metadata": {
        "id": "6PgXK745HBOU",
        "outputId": "9227ee58-0499-44eb-8e1e-2cb572494ad7",
        "colab": {
          "base_uri": "https://localhost:8080/",
          "height": 573
        }
      },
      "source": [
        "# Total number of each unique category\n",
        "number_unique_cat = []\n",
        "for u_cat in unique_category:\n",
        "  number_unique_cat.append(all_cat.count(u_cat))\n",
        "\n",
        "sorted(number_unique_cat)[::-1]"
      ],
      "execution_count": null,
      "outputs": [
        {
          "output_type": "execute_result",
          "data": {
            "text/plain": [
              "[232504,\n",
              " 49012,\n",
              " 30856,\n",
              " 30466,\n",
              " 17245,\n",
              " 15699,\n",
              " 12116,\n",
              " 10852,\n",
              " 9721,\n",
              " 7402,\n",
              " 6990,\n",
              " 3443,\n",
              " 2999,\n",
              " 2702,\n",
              " 2604,\n",
              " 990,\n",
              " 859,\n",
              " 508,\n",
              " 443,\n",
              " 170,\n",
              " 123,\n",
              " 83,\n",
              " 75,\n",
              " 40,\n",
              " 17,\n",
              " 11,\n",
              " 10,\n",
              " 2,\n",
              " 2,\n",
              " 2,\n",
              " 1,\n",
              " 1]"
            ]
          },
          "metadata": {
            "tags": []
          },
          "execution_count": 40
        }
      ]
    },
    {
      "cell_type": "code",
      "metadata": {
        "id": "GdEADVclHBRN"
      },
      "source": [
        ""
      ],
      "execution_count": null,
      "outputs": []
    },
    {
      "cell_type": "code",
      "metadata": {
        "id": "n-0zhtITZmQq",
        "outputId": "be9c30c6-00a3-402f-fc73-d5404cfb0069",
        "colab": {
          "base_uri": "https://localhost:8080/",
          "height": 573
        }
      },
      "source": [
        "zipping = zip(number_unique_cat, unique_category)\n",
        "zipping = list(zipping)\n",
        "zipping"
      ],
      "execution_count": null,
      "outputs": [
        {
          "output_type": "execute_result",
          "data": {
            "text/plain": [
              "[(7402, 'durporobash'),\n",
              " (443, 'trust'),\n",
              " (2702, 'onnoalo'),\n",
              " (30856, 'international'),\n",
              " (1, 'bs-events'),\n",
              " (30466, 'entertainment'),\n",
              " (10852, 'life-style'),\n",
              " (9721, 'education'),\n",
              " (11, '22221'),\n",
              " (49012, 'sports'),\n",
              " (2999, 'we-are'),\n",
              " (83, 'nagorik-kantho'),\n",
              " (12116, 'technology'),\n",
              " (15699, 'opinion'),\n",
              " (859, 'special-supplement'),\n",
              " (17, 'mpaward1'),\n",
              " (10, 'facebook'),\n",
              " (2, 'events'),\n",
              " (17245, 'economy'),\n",
              " (170, 'protichinta'),\n",
              " (40, 'tarunno'),\n",
              " (2, 'demo-content'),\n",
              " (990, 'bondhushava'),\n",
              " (6990, 'northamerica'),\n",
              " (232504, 'bangladesh'),\n",
              " (508, 'kishoralo'),\n",
              " (75, 'chakri-bakri'),\n",
              " (123, '-1'),\n",
              " (2, 'diverse'),\n",
              " (1, 'AskEditor'),\n",
              " (2604, 'roshalo'),\n",
              " (3443, 'pachmisheli')]"
            ]
          },
          "metadata": {
            "tags": []
          },
          "execution_count": 41
        }
      ]
    },
    {
      "cell_type": "code",
      "metadata": {
        "id": "bJKpd2udZmUA",
        "outputId": "ddcaaa80-7987-4793-837c-9901a08440d0",
        "colab": {
          "base_uri": "https://localhost:8080/",
          "height": 156
        }
      },
      "source": [
        "selected_category = []\n",
        "for z in zipping:\n",
        "  if z[0] > 10000:\n",
        "    selected_category.append(z[1])\n",
        "\n",
        "selected_category"
      ],
      "execution_count": null,
      "outputs": [
        {
          "output_type": "execute_result",
          "data": {
            "text/plain": [
              "['international',\n",
              " 'entertainment',\n",
              " 'life-style',\n",
              " 'sports',\n",
              " 'technology',\n",
              " 'opinion',\n",
              " 'economy',\n",
              " 'bangladesh']"
            ]
          },
          "metadata": {
            "tags": []
          },
          "execution_count": 42
        }
      ]
    },
    {
      "cell_type": "code",
      "metadata": {
        "id": "LRDKpFgqZmZD"
      },
      "source": [
        ""
      ],
      "execution_count": null,
      "outputs": []
    },
    {
      "cell_type": "markdown",
      "metadata": {
        "id": "0JHHscC0cq5U"
      },
      "source": [
        "### Feature and Label data"
      ]
    },
    {
      "cell_type": "code",
      "metadata": {
        "id": "O2tfx4aHZmei"
      },
      "source": [
        "X_feature = []\n",
        "y_label = []\n",
        "\n",
        "for p in data:\n",
        "  if p['category'] in selected_category:\n",
        "    X_feature.append(p['title'])\n",
        "    y_label.append(p['category'])"
      ],
      "execution_count": null,
      "outputs": []
    },
    {
      "cell_type": "code",
      "metadata": {
        "id": "YrHIZfPCZmjh",
        "outputId": "6279d6de-47df-4038-e4ce-f404a2ebee92",
        "colab": {
          "base_uri": "https://localhost:8080/",
          "height": 34
        }
      },
      "source": [
        "print(f\"Shape of X_feature is {len(X_feature)} and Shape of y_label is {len(y_label)}\")"
      ],
      "execution_count": null,
      "outputs": [
        {
          "output_type": "stream",
          "text": [
            "Shape of X_feature is 398750 and Shape of y_label is 398750\n"
          ],
          "name": "stdout"
        }
      ]
    },
    {
      "cell_type": "code",
      "metadata": {
        "id": "kZ_0H21eZmh8"
      },
      "source": [
        ""
      ],
      "execution_count": null,
      "outputs": []
    },
    {
      "cell_type": "markdown",
      "metadata": {
        "id": "EeYw1MSOeQcO"
      },
      "source": [
        "### Printing some Feature and Label text"
      ]
    },
    {
      "cell_type": "code",
      "metadata": {
        "id": "jiok-X8RZmcw",
        "outputId": "aadccdb7-78ca-49ec-d670-4ae0802e2a11",
        "colab": {
          "base_uri": "https://localhost:8080/",
          "height": 104
        }
      },
      "source": [
        "for txt in range(5):\n",
        "  print(X_feature[txt])"
      ],
      "execution_count": null,
      "outputs": [
        {
          "output_type": "stream",
          "text": [
            "কালিয়াকৈরে টিফিন খেয়ে ৫০০ শ্রমিক অসুস্থ, বিক্ষোভ\n",
            "সেমিফাইনাল বাধাও পেরিয়ে গেলেন লিসিকি\n",
            "সংসদে খালেদার অভিযোগের জবাব দিয়েছে ভারত\n",
            "পাসওয়ার্ড ভুলে যান!\n",
            "চলে গেলেন মাউস উদ্ভাবক\n"
          ],
          "name": "stdout"
        }
      ]
    },
    {
      "cell_type": "code",
      "metadata": {
        "id": "UlI95KiIZmXy",
        "outputId": "6f847721-07c3-4011-f9b6-724be52a99e5",
        "colab": {
          "base_uri": "https://localhost:8080/",
          "height": 104
        }
      },
      "source": [
        "for l in range(5):\n",
        "  print(y_label[l])"
      ],
      "execution_count": null,
      "outputs": [
        {
          "output_type": "stream",
          "text": [
            "bangladesh\n",
            "sports\n",
            "bangladesh\n",
            "technology\n",
            "technology\n"
          ],
          "name": "stdout"
        }
      ]
    },
    {
      "cell_type": "code",
      "metadata": {
        "id": "WwBzYJM6esG8"
      },
      "source": [
        ""
      ],
      "execution_count": null,
      "outputs": []
    },
    {
      "cell_type": "markdown",
      "metadata": {
        "id": "IMpGicglfLxC"
      },
      "source": [
        "### Encoding of Label data"
      ]
    },
    {
      "cell_type": "code",
      "metadata": {
        "id": "vSEY8ngKfOLu"
      },
      "source": [
        "encoder = LabelEncoder()\n",
        "class_labels = encoder.fit_transform(y_label)"
      ],
      "execution_count": null,
      "outputs": []
    },
    {
      "cell_type": "code",
      "metadata": {
        "id": "MRnAF2nRfOOd",
        "outputId": "b4b4341d-c5a5-46e8-dd46-fb7660b198ca",
        "colab": {
          "base_uri": "https://localhost:8080/",
          "height": 34
        }
      },
      "source": [
        "set(class_labels)"
      ],
      "execution_count": null,
      "outputs": [
        {
          "output_type": "execute_result",
          "data": {
            "text/plain": [
              "{0, 1, 2, 3, 4, 5, 6, 7}"
            ]
          },
          "metadata": {
            "tags": []
          },
          "execution_count": 48
        }
      ]
    },
    {
      "cell_type": "code",
      "metadata": {
        "id": "UPfa2M-WfOR0",
        "outputId": "8cafe7cb-7fee-49e3-c35c-56c38f0e5a3b",
        "colab": {
          "base_uri": "https://localhost:8080/",
          "height": 34
        }
      },
      "source": [
        "l = len(class_labels)\n",
        "l"
      ],
      "execution_count": null,
      "outputs": [
        {
          "output_type": "execute_result",
          "data": {
            "text/plain": [
              "398750"
            ]
          },
          "metadata": {
            "tags": []
          },
          "execution_count": 49
        }
      ]
    },
    {
      "cell_type": "code",
      "metadata": {
        "id": "OFtVRX18fOYv"
      },
      "source": [
        ""
      ],
      "execution_count": null,
      "outputs": []
    },
    {
      "cell_type": "markdown",
      "metadata": {
        "id": "hlhYJ7uxgiUU"
      },
      "source": [
        "### OneHotEncoding"
      ]
    },
    {
      "cell_type": "code",
      "metadata": {
        "id": "wI9bHuGJfObp"
      },
      "source": [
        "ohe = OneHotEncoder(sparse=False) \n",
        "class_labels = class_labels.reshape((class_labels.shape[0], 1))\n",
        "y_ohe = ohe.fit_transform(class_labels)"
      ],
      "execution_count": null,
      "outputs": []
    },
    {
      "cell_type": "code",
      "metadata": {
        "id": "zwxBukVhgoOA",
        "outputId": "f15b3106-8001-434f-cff1-509697435e84",
        "colab": {
          "base_uri": "https://localhost:8080/",
          "height": 139
        }
      },
      "source": [
        "y_ohe"
      ],
      "execution_count": null,
      "outputs": [
        {
          "output_type": "execute_result",
          "data": {
            "text/plain": [
              "array([[1., 0., 0., ..., 0., 0., 0.],\n",
              "       [0., 0., 0., ..., 0., 1., 0.],\n",
              "       [1., 0., 0., ..., 0., 0., 0.],\n",
              "       ...,\n",
              "       [0., 0., 0., ..., 0., 1., 0.],\n",
              "       [0., 0., 0., ..., 0., 1., 0.],\n",
              "       [1., 0., 0., ..., 0., 0., 0.]])"
            ]
          },
          "metadata": {
            "tags": []
          },
          "execution_count": 51
        }
      ]
    },
    {
      "cell_type": "code",
      "metadata": {
        "id": "KQAJ3I_CgoSA"
      },
      "source": [
        ""
      ],
      "execution_count": null,
      "outputs": []
    },
    {
      "cell_type": "markdown",
      "metadata": {
        "id": "Ht7jsRJuhn55"
      },
      "source": [
        "### Tokenizing"
      ]
    },
    {
      "cell_type": "code",
      "metadata": {
        "id": "XWgDOxD2goXv"
      },
      "source": [
        "tokenizer = Tokenizer()\n",
        "tokenizer.fit_on_texts(X_feature)\n",
        "X_token = tokenizer.texts_to_sequences(X_feature)"
      ],
      "execution_count": null,
      "outputs": []
    },
    {
      "cell_type": "code",
      "metadata": {
        "id": "HUr3f5kRgoU0",
        "outputId": "6c42c2ea-b08c-405d-a513-85cc30b5ca08",
        "colab": {
          "base_uri": "https://localhost:8080/",
          "height": 34
        }
      },
      "source": [
        "vocab_size = len(tokenizer.word_index) + 1 \n",
        "vocab_size"
      ],
      "execution_count": null,
      "outputs": [
        {
          "output_type": "execute_result",
          "data": {
            "text/plain": [
              "119053"
            ]
          },
          "metadata": {
            "tags": []
          },
          "execution_count": 53
        }
      ]
    },
    {
      "cell_type": "code",
      "metadata": {
        "id": "G7VyD6DAfOWM"
      },
      "source": [
        ""
      ],
      "execution_count": null,
      "outputs": []
    },
    {
      "cell_type": "markdown",
      "metadata": {
        "id": "ArnuL8xFj_c8"
      },
      "source": [
        "### Some token and text"
      ]
    },
    {
      "cell_type": "code",
      "metadata": {
        "id": "HPxUSopnfOUS",
        "outputId": "918acd4f-ed4b-4eb6-d308-16682eabc40d",
        "colab": {
          "base_uri": "https://localhost:8080/",
          "height": 86
        }
      },
      "source": [
        "for txt_tkn in range(2):\n",
        "  print(X_feature[txt_tkn])\n",
        "  print(X_token[txt_tkn])"
      ],
      "execution_count": null,
      "outputs": [
        {
          "output_type": "stream",
          "text": [
            "কালিয়াকৈরে টিফিন খেয়ে ৫০০ শ্রমিক অসুস্থ, বিক্ষোভ\n",
            "[8195, 7499, 7184, 1405, 282, 713, 157]\n",
            "সেমিফাইনাল বাধাও পেরিয়ে গেলেন লিসিকি\n",
            "[7669, 42614, 10234, 232, 34719]\n"
          ],
          "name": "stdout"
        }
      ]
    },
    {
      "cell_type": "code",
      "metadata": {
        "id": "JOyQ1Kgokq9z"
      },
      "source": [
        ""
      ],
      "execution_count": null,
      "outputs": []
    },
    {
      "cell_type": "markdown",
      "metadata": {
        "id": "4Y0UzsfbkwAO"
      },
      "source": [
        "### Pad Sequence"
      ]
    },
    {
      "cell_type": "code",
      "metadata": {
        "id": "7-2rJuFekyl3"
      },
      "source": [
        "max_len = 15\n",
        "X_pad = pad_sequences(X_token, padding='post', maxlen=max_len)"
      ],
      "execution_count": null,
      "outputs": []
    },
    {
      "cell_type": "code",
      "metadata": {
        "id": "zEgoM3Zokyox"
      },
      "source": [
        ""
      ],
      "execution_count": null,
      "outputs": []
    },
    {
      "cell_type": "markdown",
      "metadata": {
        "id": "Sw6WT0CimGdH"
      },
      "source": [
        "### Appeared word count"
      ]
    },
    {
      "cell_type": "code",
      "metadata": {
        "id": "RB7smWYWkywl",
        "outputId": "efb139b0-372c-45b4-ad31-6a60a9c5cab3",
        "colab": {
          "base_uri": "https://localhost:8080/",
          "height": 34
        }
      },
      "source": [
        "word_list = []\n",
        "for sen in X_feature:\n",
        "  word_list.extend(sen.split())\n",
        "\n",
        "len(word_list)  "
      ],
      "execution_count": null,
      "outputs": [
        {
          "output_type": "execute_result",
          "data": {
            "text/plain": [
              "1961315"
            ]
          },
          "metadata": {
            "tags": []
          },
          "execution_count": 56
        }
      ]
    },
    {
      "cell_type": "code",
      "metadata": {
        "id": "51bNigksky1_",
        "outputId": "372e25b3-194a-48ff-bc19-4d12b0d15a9e",
        "colab": {
          "base_uri": "https://localhost:8080/",
          "height": 54
        }
      },
      "source": [
        "counter = Counter(word_list)\n",
        "most_common = counter.most_common(100) \n",
        "print(most_common) "
      ],
      "execution_count": null,
      "outputs": [
        {
          "output_type": "stream",
          "text": [
            "[('ও', 15691), ('না', 11452), ('দুই', 10404), ('নিহত', 9723), ('গ্রেপ্তার', 9243), ('নিয়ে', 7687), ('থেকে', 7636), ('নতুন', 6289), ('আজ', 6151), ('বিরুদ্ধে', 5972), ('শুরু', 5780), ('মৃত্যু', 5670), ('এক', 5596), ('তিন', 5535), ('উদ্ধার', 5416), ('হবে', 5254), ('জন্য', 4836), ('করে', 4827), ('দাবি', 4821), ('সঙ্গে', 4635), ('লাশ', 4562), ('পর', 4305), ('আহত', 4247), ('আটক', 4243), ('মামলা', 3883), ('টাকা', 3779), ('নেই', 3703), ('হত্যা', 3501), ('হচ্ছে', 3344), ('অভিযোগ', 3291), ('করতে', 3214), ('বন্ধ', 3055), ('বাংলাদেশ', 3016), ('চার', 2973), ('বিএনপির', 2945), ('১', 2865), ('শেষ', 2775), ('১০', 2756), ('হত্যার', 2746), ('২', 2722), ('বছর', 2711), ('দিন', 2683), ('চট্টগ্রামে', 2660), ('আরও', 2655), ('পুলিশ', 2629), ('নির্বাচন', 2623), ('হাজার', 2584), ('এবার', 2504), ('পাঁচ', 2480), ('দাবিতে', 2459), ('লাখ', 2415), ('৩', 2350), ('নেতা', 2341), ('মানববন্ধন', 2326), ('সড়ক', 2287), ('আর', 2285), ('বিএনপি', 2284), ('কোটি', 2279), ('প্রথম', 2233), ('বাংলাদেশের', 2193), ('পুলিশের', 2109), ('নারী', 2081), ('শিশু', 2043), ('সেই', 2036), ('করা', 1993), ('৫', 1991), ('কমিটি', 1979), ('জরিমানা', 1969), ('আ.লীগ', 1969), ('করার', 1960), ('আবার', 1945), ('গেল', 1892), ('আ.লীগের', 1833), ('ওপর', 1831), ('সভা', 1831), ('ধর্ষণের', 1823), ('প্রধানমন্ত্রী', 1815), ('উৎসব', 1813), ('খালেদা', 1780), ('এখন', 1756), ('পেলেন', 1750), ('আহ্বান', 1747), ('দিয়ে', 1740), ('কারাদণ্ড', 1735), ('দিতে', 1734), ('দুর্ঘটনায়', 1713), ('হলো', 1694), ('হতে', 1674), ('অভিযোগ', 1673), ('মামলায়', 1671), ('জন', 1670), ('নয়', 1656), ('মধ্যে', 1650), ('কী', 1631), ('আসামি', 1627), ('কাল', 1625), ('কাছে', 1621), ('নির্দেশ', 1614), ('ঢাকায়', 1607), ('সংঘর্ষে', 1606)]\n"
          ],
          "name": "stdout"
        }
      ]
    },
    {
      "cell_type": "code",
      "metadata": {
        "id": "WbLAud0Oky6I"
      },
      "source": [
        ""
      ],
      "execution_count": null,
      "outputs": []
    },
    {
      "cell_type": "code",
      "metadata": {
        "id": "mpNZy65Bkysf",
        "outputId": "f7454398-00ce-4cef-aaba-0234e82402a6",
        "colab": {
          "base_uri": "https://localhost:8080/",
          "height": 34
        }
      },
      "source": [
        "class_list = list(class_labels[:, 0])\n",
        "class_list_set = set(class_list)\n",
        "class_list_set"
      ],
      "execution_count": null,
      "outputs": [
        {
          "output_type": "execute_result",
          "data": {
            "text/plain": [
              "{0, 1, 2, 3, 4, 5, 6, 7}"
            ]
          },
          "metadata": {
            "tags": []
          },
          "execution_count": 58
        }
      ]
    },
    {
      "cell_type": "code",
      "metadata": {
        "id": "z2ZONYwfpk_q",
        "outputId": "d3e78136-c05a-4fdc-bdf3-b1a6c0465957",
        "colab": {
          "base_uri": "https://localhost:8080/",
          "height": 295
        }
      },
      "source": [
        "class_weight = {}\n",
        "\n",
        "for c in (list(class_list_set)):\n",
        "  print(c)\n",
        "  c_w = len(class_labels)/ np.sum(class_labels==c) \n",
        "  print(c_w)\n",
        "  class_weight[c] = c_w "
      ],
      "execution_count": null,
      "outputs": [
        {
          "output_type": "stream",
          "text": [
            "0\n",
            "1.7150242576471804\n",
            "1\n",
            "23.12264424470861\n",
            "2\n",
            "13.088360795641043\n",
            "3\n",
            "12.922932330827068\n",
            "4\n",
            "36.744378916328785\n",
            "5\n",
            "25.399706987706224\n",
            "6\n",
            "8.135762670366441\n",
            "7\n",
            "32.911026741498844\n"
          ],
          "name": "stdout"
        }
      ]
    },
    {
      "cell_type": "code",
      "metadata": {
        "id": "yK0jEc99qDj_"
      },
      "source": [
        ""
      ],
      "execution_count": null,
      "outputs": []
    },
    {
      "cell_type": "markdown",
      "metadata": {
        "id": "gIeTxs0GtkBn"
      },
      "source": [
        "### Dividing Dataset"
      ]
    },
    {
      "cell_type": "code",
      "metadata": {
        "id": "Lr40jyhOtjIX"
      },
      "source": [
        "sss = StratifiedShuffleSplit(n_splits=5, test_size=0.3, random_state=42)\n",
        "sss.get_n_splits(X_pad, y_ohe)\n",
        "\n",
        "for train_index, test_index in sss.split(X_pad, y_ohe):\n",
        "  X_train, X_test = X_pad[train_index], X_pad[test_index]\n",
        "  y_train, y_test = y_ohe[train_index], y_ohe[test_index] "
      ],
      "execution_count": null,
      "outputs": []
    },
    {
      "cell_type": "code",
      "metadata": {
        "id": "smW8TJlrtm_e"
      },
      "source": [
        ""
      ],
      "execution_count": null,
      "outputs": []
    },
    {
      "cell_type": "markdown",
      "metadata": {
        "id": "YX0oYqOvq1m5"
      },
      "source": [
        "### Model"
      ]
    },
    {
      "cell_type": "code",
      "metadata": {
        "id": "8QlxVht_qDrX"
      },
      "source": [
        "embedding_dim = 8\n",
        "\n",
        "model = Sequential()\n",
        "model.add(Embedding(input_dim=vocab_size, output_dim=embedding_dim, input_length=max_len))\n",
        "model.add(Bidirectional(LSTM(128, return_sequences = True)))\n",
        "model.add(Dropout(0.5))\n",
        "model.add(Bidirectional(LSTM(128))) \n",
        "model.add(Dropout(0.2))\n",
        "model.add(Dense(8, activation='softmax'))\n"
      ],
      "execution_count": null,
      "outputs": []
    },
    {
      "cell_type": "code",
      "metadata": {
        "id": "16Pfglq-ranE",
        "outputId": "68474569-c21a-4751-fe5e-746f6e1b4bad",
        "colab": {
          "base_uri": "https://localhost:8080/",
          "height": 364
        }
      },
      "source": [
        "model.summary()"
      ],
      "execution_count": null,
      "outputs": [
        {
          "output_type": "stream",
          "text": [
            "Model: \"sequential_1\"\n",
            "_________________________________________________________________\n",
            "Layer (type)                 Output Shape              Param #   \n",
            "=================================================================\n",
            "embedding_1 (Embedding)      (None, 15, 8)             952424    \n",
            "_________________________________________________________________\n",
            "bidirectional_2 (Bidirection (None, 15, 256)           140288    \n",
            "_________________________________________________________________\n",
            "dropout_2 (Dropout)          (None, 15, 256)           0         \n",
            "_________________________________________________________________\n",
            "bidirectional_3 (Bidirection (None, 256)               394240    \n",
            "_________________________________________________________________\n",
            "dropout_3 (Dropout)          (None, 256)               0         \n",
            "_________________________________________________________________\n",
            "dense_1 (Dense)              (None, 8)                 2056      \n",
            "=================================================================\n",
            "Total params: 1,489,008\n",
            "Trainable params: 1,489,008\n",
            "Non-trainable params: 0\n",
            "_________________________________________________________________\n"
          ],
          "name": "stdout"
        }
      ]
    },
    {
      "cell_type": "code",
      "metadata": {
        "id": "vGHlE3OY5iJF",
        "outputId": "bd5303c6-e65c-4525-a7eb-4a9fea6ac4ae",
        "colab": {
          "base_uri": "https://localhost:8080/",
          "height": 754
        }
      },
      "source": [
        "#plotting model\n",
        "plot_model(model, show_shapes=True, to_file = 'Bengali_Sentiment_model.png')"
      ],
      "execution_count": null,
      "outputs": [
        {
          "output_type": "execute_result",
          "data": {
            "image/png": "[encoded data removed]",
            "text/plain": [
              "<IPython.core.display.Image object>"
            ]
          },
          "metadata": {
            "tags": []
          },
          "execution_count": 63
        }
      ]
    },
    {
      "cell_type": "code",
      "metadata": {
        "id": "9-s4J0N0qDpm"
      },
      "source": [
        "model.compile(optimizer='adam',\n",
        "              loss='categorical_crossentropy',\n",
        "              metrics=['accuracy'])\n"
      ],
      "execution_count": null,
      "outputs": []
    },
    {
      "cell_type": "code",
      "metadata": {
        "id": "8x2FKaNMqDnt"
      },
      "source": [
        ""
      ],
      "execution_count": null,
      "outputs": []
    },
    {
      "cell_type": "code",
      "metadata": {
        "id": "m0_iHkYJrOnI"
      },
      "source": [
        "def exp_decay(epoch):\n",
        "    initial_lrate = 0.1\n",
        "    k = 0.1\n",
        "    lrate = initial_lrate * exp(-k*epoch)\n",
        "    return lrate\n",
        "lrate = LearningRateScheduler(exp_decay)"
      ],
      "execution_count": null,
      "outputs": []
    },
    {
      "cell_type": "code",
      "metadata": {
        "id": "QA6zR45prOvB"
      },
      "source": [
        ""
      ],
      "execution_count": null,
      "outputs": []
    },
    {
      "cell_type": "code",
      "metadata": {
        "id": "HNydEn59rOso",
        "outputId": "7e83afb3-9694-4873-8c5a-0f1bfa30b519",
        "colab": {
          "base_uri": "https://localhost:8080/",
          "height": 1000
        }
      },
      "source": [
        "model_fit = model.fit(X_train, y_train,\n",
        "                    epochs = 30,\n",
        "                    verbose=1,\n",
        "                    validation_split=0.1,\n",
        "                    batch_size=256,\n",
        "                    class_weight=class_weight\n",
        "                    )"
      ],
      "execution_count": null,
      "outputs": [
        {
          "output_type": "stream",
          "text": [
            "Epoch 1/30\n",
            "982/982 [==============================] - 22s 22ms/step - loss: 11.6393 - accuracy: 0.4598 - val_loss: 1.0586 - val_accuracy: 0.5983\n",
            "Epoch 2/30\n",
            "982/982 [==============================] - 20s 20ms/step - loss: 6.4645 - accuracy: 0.6903 - val_loss: 0.8975 - val_accuracy: 0.6859\n",
            "Epoch 3/30\n",
            "982/982 [==============================] - 20s 21ms/step - loss: 4.2984 - accuracy: 0.7913 - val_loss: 0.9587 - val_accuracy: 0.6849\n",
            "Epoch 4/30\n",
            "982/982 [==============================] - 20s 21ms/step - loss: 3.2379 - accuracy: 0.8385 - val_loss: 0.8749 - val_accuracy: 0.7213\n",
            "Epoch 5/30\n",
            "982/982 [==============================] - 20s 21ms/step - loss: 2.6434 - accuracy: 0.8621 - val_loss: 0.9469 - val_accuracy: 0.7154\n",
            "Epoch 6/30\n",
            "982/982 [==============================] - 20s 21ms/step - loss: 2.2462 - accuracy: 0.8773 - val_loss: 0.9028 - val_accuracy: 0.7317\n",
            "Epoch 7/30\n",
            "982/982 [==============================] - 20s 21ms/step - loss: 1.9947 - accuracy: 0.8872 - val_loss: 0.9579 - val_accuracy: 0.7229\n",
            "Epoch 8/30\n",
            "982/982 [==============================] - 20s 20ms/step - loss: 1.7868 - accuracy: 0.8957 - val_loss: 0.9159 - val_accuracy: 0.7442\n",
            "Epoch 9/30\n",
            "982/982 [==============================] - 20s 21ms/step - loss: 1.6127 - accuracy: 0.9029 - val_loss: 0.9735 - val_accuracy: 0.7369\n",
            "Epoch 10/30\n",
            "982/982 [==============================] - 21s 21ms/step - loss: 1.4873 - accuracy: 0.9087 - val_loss: 1.0168 - val_accuracy: 0.7247\n",
            "Epoch 11/30\n",
            "982/982 [==============================] - 20s 20ms/step - loss: 1.3727 - accuracy: 0.9129 - val_loss: 1.0218 - val_accuracy: 0.7323\n",
            "Epoch 12/30\n",
            "982/982 [==============================] - 20s 20ms/step - loss: 1.2727 - accuracy: 0.9181 - val_loss: 1.0451 - val_accuracy: 0.7460\n",
            "Epoch 13/30\n",
            "982/982 [==============================] - 20s 20ms/step - loss: 1.1635 - accuracy: 0.9230 - val_loss: 1.0657 - val_accuracy: 0.7280\n",
            "Epoch 14/30\n",
            "982/982 [==============================] - 20s 21ms/step - loss: 1.0779 - accuracy: 0.9271 - val_loss: 1.0722 - val_accuracy: 0.7389\n",
            "Epoch 15/30\n",
            "982/982 [==============================] - 20s 20ms/step - loss: 1.0294 - accuracy: 0.9300 - val_loss: 1.1644 - val_accuracy: 0.7346\n",
            "Epoch 16/30\n",
            "982/982 [==============================] - 20s 20ms/step - loss: 0.9389 - accuracy: 0.9340 - val_loss: 1.1532 - val_accuracy: 0.7312\n",
            "Epoch 17/30\n",
            "982/982 [==============================] - 20s 20ms/step - loss: 0.8839 - accuracy: 0.9368 - val_loss: 1.1600 - val_accuracy: 0.7345\n",
            "Epoch 18/30\n",
            "982/982 [==============================] - 20s 21ms/step - loss: 0.8472 - accuracy: 0.9397 - val_loss: 1.2265 - val_accuracy: 0.7237\n",
            "Epoch 19/30\n",
            "982/982 [==============================] - 20s 21ms/step - loss: 0.7962 - accuracy: 0.9422 - val_loss: 1.1807 - val_accuracy: 0.7415\n",
            "Epoch 20/30\n",
            "982/982 [==============================] - 20s 20ms/step - loss: 0.7454 - accuracy: 0.9449 - val_loss: 1.2571 - val_accuracy: 0.7284\n",
            "Epoch 21/30\n",
            "982/982 [==============================] - 20s 20ms/step - loss: 0.7128 - accuracy: 0.9470 - val_loss: 1.2304 - val_accuracy: 0.7461\n",
            "Epoch 22/30\n",
            "982/982 [==============================] - 20s 20ms/step - loss: 0.6800 - accuracy: 0.9487 - val_loss: 1.2616 - val_accuracy: 0.7402\n",
            "Epoch 23/30\n",
            "982/982 [==============================] - 20s 20ms/step - loss: 0.6635 - accuracy: 0.9503 - val_loss: 1.2911 - val_accuracy: 0.7343\n",
            "Epoch 24/30\n",
            "982/982 [==============================] - 20s 20ms/step - loss: 0.6108 - accuracy: 0.9529 - val_loss: 1.3068 - val_accuracy: 0.7307\n",
            "Epoch 25/30\n",
            "982/982 [==============================] - 21s 21ms/step - loss: 0.6016 - accuracy: 0.9539 - val_loss: 1.3629 - val_accuracy: 0.7385\n",
            "Epoch 26/30\n",
            "982/982 [==============================] - 20s 21ms/step - loss: 0.5884 - accuracy: 0.9549 - val_loss: 1.3726 - val_accuracy: 0.7301\n",
            "Epoch 27/30\n",
            "982/982 [==============================] - 20s 20ms/step - loss: 0.5585 - accuracy: 0.9559 - val_loss: 1.4170 - val_accuracy: 0.7316\n",
            "Epoch 28/30\n",
            "982/982 [==============================] - 20s 20ms/step - loss: 0.5250 - accuracy: 0.9582 - val_loss: 1.4740 - val_accuracy: 0.7374\n",
            "Epoch 29/30\n",
            "982/982 [==============================] - 20s 20ms/step - loss: 0.5199 - accuracy: 0.9588 - val_loss: 1.4500 - val_accuracy: 0.7438\n",
            "Epoch 30/30\n",
            "982/982 [==============================] - 20s 21ms/step - loss: 0.5146 - accuracy: 0.9596 - val_loss: 1.4105 - val_accuracy: 0.7366\n"
          ],
          "name": "stdout"
        }
      ]
    },
    {
      "cell_type": "code",
      "metadata": {
        "id": "GqDOm7mhrOqx",
        "outputId": "897a1535-d78b-459b-dbe8-5e2896b4a289",
        "colab": {
          "base_uri": "https://localhost:8080/",
          "height": 545
        }
      },
      "source": [
        "train_accuracy = model_fit.history['accuracy'] \n",
        "loss = model_fit.history['loss']\n",
        "\n",
        "val_accuracy = model_fit.history['val_accuracy']\n",
        "val_loss = model_fit.history['val_loss']\n",
        "\n",
        "epochs = range(len(val_accuracy))\n",
        "plt.plot(epochs, train_accuracy, 'go', label='Training accuracy')\n",
        "plt.plot(epochs, val_accuracy, 'b', label='Validation accuracy')\n",
        "plt.title('Training and validation accuracy')\n",
        "plt.legend()\n",
        "plt.figure()\n",
        "plt.plot(epochs, loss, 'go', label='Training loss')\n",
        "plt.plot(epochs, val_loss, 'g', label='validation loss')\n",
        "plt.title('training and validation loss')\n",
        "plt.legend()\n",
        "plt.show()"
      ],
      "execution_count": null,
      "outputs": [
        {
          "output_type": "display_data",
          "data": {
            "image/png": "[encoded data removed]",
            "text/plain": [
              "<Figure size 432x288 with 1 Axes>"
            ]
          },
          "metadata": {
            "tags": [],
            "needs_background": "light"
          }
        },
        {
          "output_type": "display_data",
          "data": {
            "image/png": "[encoded data removed]",
            "text/plain": [
              "<Figure size 432x288 with 1 Axes>"
            ]
          },
          "metadata": {
            "tags": [],
            "needs_background": "light"
          }
        }
      ]
    },
    {
      "cell_type": "code",
      "metadata": {
        "id": "LfDs9H8K6CaO"
      },
      "source": [
        ""
      ],
      "execution_count": null,
      "outputs": []
    },
    {
      "cell_type": "markdown",
      "metadata": {
        "id": "pxoLxHBA6ekP"
      },
      "source": [
        "### Save Model"
      ]
    },
    {
      "cell_type": "code",
      "metadata": {
        "id": "Y-_t8Xjs6eFv"
      },
      "source": [
        "model.save('BNC_lstm.h5')\n"
      ],
      "execution_count": null,
      "outputs": []
    },
    {
      "cell_type": "code",
      "metadata": {
        "id": "gWiOUGGy6eKW"
      },
      "source": [
        "model = load_model('BNC_lstm.h5')"
      ],
      "execution_count": null,
      "outputs": []
    },
    {
      "cell_type": "code",
      "metadata": {
        "id": "FqZMRZRk6cSS"
      },
      "source": [
        ""
      ],
      "execution_count": null,
      "outputs": []
    },
    {
      "cell_type": "markdown",
      "metadata": {
        "id": "SWhyWpPT6h3Z"
      },
      "source": [
        "### Predict with test data"
      ]
    },
    {
      "cell_type": "code",
      "metadata": {
        "id": "ulywQoF96cb3",
        "outputId": "6f3cbc8e-95a7-4da3-a47d-84624644d148",
        "colab": {
          "base_uri": "https://localhost:8080/",
          "height": 243
        }
      },
      "source": [
        "predictions_prob=model.predict(X_test)\n",
        "predictions_prob"
      ],
      "execution_count": null,
      "outputs": [
        {
          "output_type": "execute_result",
          "data": {
            "text/plain": [
              "array([[9.9949670e-01, 2.8171533e-07, 9.7984571e-07, ..., 4.0483606e-05,\n",
              "        1.5497397e-05, 5.4029275e-08],\n",
              "       [3.3661901e-04, 1.3868739e-06, 1.9745166e-06, ..., 1.0607966e-06,\n",
              "        9.9965894e-01, 4.6277119e-08],\n",
              "       [9.9952805e-01, 2.7857068e-06, 2.6295027e-06, ..., 4.4882926e-04,\n",
              "        8.5095189e-06, 4.5457046e-10],\n",
              "       ...,\n",
              "       [9.9998546e-01, 6.7951987e-08, 1.5344443e-07, ..., 1.0222832e-05,\n",
              "        3.1363024e-07, 9.7378737e-11],\n",
              "       [9.9998975e-01, 3.7070149e-07, 8.0610725e-08, ..., 5.9537283e-06,\n",
              "        3.9400388e-07, 9.7902908e-10],\n",
              "       [1.6438197e-04, 2.0904653e-04, 9.5943789e-05, ..., 1.3287654e-04,\n",
              "        9.9931943e-01, 5.6830722e-05]], dtype=float32)"
            ]
          },
          "metadata": {
            "tags": []
          },
          "execution_count": 70
        }
      ]
    },
    {
      "cell_type": "code",
      "metadata": {
        "id": "097lnUcr6lbQ",
        "outputId": "4c265e3f-91a1-4503-85d0-2001063e196c",
        "colab": {
          "base_uri": "https://localhost:8080/",
          "height": 52
        }
      },
      "source": [
        "pred_class = encoder.inverse_transform(model.predict_classes(X_test))\n",
        "pred_class"
      ],
      "execution_count": null,
      "outputs": [
        {
          "output_type": "execute_result",
          "data": {
            "text/plain": [
              "array(['bangladesh', 'sports', 'bangladesh', ..., 'bangladesh',\n",
              "       'bangladesh', 'sports'], dtype='<U13')"
            ]
          },
          "metadata": {
            "tags": []
          },
          "execution_count": 76
        }
      ]
    },
    {
      "cell_type": "code",
      "metadata": {
        "id": "w4KvCNBkyo3d",
        "outputId": "f2754499-3923-4393-e8ed-986c27969df1",
        "colab": {
          "base_uri": "https://localhost:8080/",
          "height": 34
        }
      },
      "source": [
        "len(pred_class)"
      ],
      "execution_count": null,
      "outputs": [
        {
          "output_type": "execute_result",
          "data": {
            "text/plain": [
              "119625"
            ]
          },
          "metadata": {
            "tags": []
          },
          "execution_count": 77
        }
      ]
    },
    {
      "cell_type": "code",
      "metadata": {
        "id": "rB7G-RPsyo-Z"
      },
      "source": [
        ""
      ],
      "execution_count": null,
      "outputs": []
    },
    {
      "cell_type": "code",
      "metadata": {
        "id": "j3B5IgYw1rwf",
        "outputId": "053d045c-2e94-4c22-aec9-c3296dc09c48",
        "colab": {
          "base_uri": "https://localhost:8080/",
          "height": 106
        }
      },
      "source": [
        "oh_encod_inverse = ohe.inverse_transform(y_test)\n",
        "label_encode_inverse = encoder.inverse_transform(oh_encod_inverse)\n",
        "label_encode_inverse"
      ],
      "execution_count": null,
      "outputs": [
        {
          "output_type": "stream",
          "text": [
            "/usr/local/lib/python3.6/dist-packages/sklearn/preprocessing/_label.py:289: DataConversionWarning: A column-vector y was passed when a 1d array was expected. Please change the shape of y to (n_samples, ), for example using ravel().\n",
            "  y = column_or_1d(y, warn=True)\n"
          ],
          "name": "stderr"
        },
        {
          "output_type": "execute_result",
          "data": {
            "text/plain": [
              "array(['bangladesh', 'sports', 'bangladesh', ..., 'bangladesh',\n",
              "       'bangladesh', 'sports'], dtype='<U13')"
            ]
          },
          "metadata": {
            "tags": []
          },
          "execution_count": 80
        }
      ]
    },
    {
      "cell_type": "code",
      "metadata": {
        "id": "o7wg8cgm1r0f"
      },
      "source": [
        ""
      ],
      "execution_count": null,
      "outputs": []
    },
    {
      "cell_type": "markdown",
      "metadata": {
        "id": "6hG8dRwQ5TAn"
      },
      "source": [
        "### Confusion Matrix"
      ]
    },
    {
      "cell_type": "code",
      "metadata": {
        "id": "hRKo1psa2rHg",
        "outputId": "f1d01ace-8643-4d9f-cb7d-55aa952b9a9d",
        "colab": {
          "base_uri": "https://localhost:8080/",
          "height": 296
        }
      },
      "source": [
        "#finally printing\n",
        "plt.figure(figsize=(8,8))\n",
        "sns.heatmap(confusion_matrix(label_encode_inverse, pred_class), square=True, annot=True, fmt='d', cbar=False,\n",
        "           #xticklabels=digits.target_names,\n",
        "           #yticklabels=digits.target_names\n",
        "           )\n",
        "\n",
        "plt.xlabel('True label')\n",
        "plt.ylabel('Predicted data')"
      ],
      "execution_count": null,
      "outputs": [
        {
          "output_type": "execute_result",
          "data": {
            "text/plain": [
              "Text(91.68, 0.5, 'Predicted data')"
            ]
          },
          "metadata": {
            "tags": []
          },
          "execution_count": 83
        },
        {
          "output_type": "display_data",
          "data": {
            "image/png": "[encoded data removed]",
            "text/plain": [
              "<Figure size 432x288 with 1 Axes>"
            ]
          },
          "metadata": {
            "tags": [],
            "needs_background": "light"
          }
        }
      ]
    },
    {
      "cell_type": "code",
      "metadata": {
        "id": "aw_RbkQ82rLl"
      },
      "source": [
        ""
      ],
      "execution_count": null,
      "outputs": []
    },
    {
      "cell_type": "markdown",
      "metadata": {
        "id": "Bu7msMf_6C_2"
      },
      "source": [
        "### Predicting with new data"
      ]
    },
    {
      "cell_type": "code",
      "metadata": {
        "id": "CAfuW5cu6Cfw"
      },
      "source": [
        "def generate_response():\n",
        "    max_len=15\n",
        "    input_sentence = input('Enter input news: ')\n",
        "    Xi_token = tokenizer.texts_to_sequences([input_sentence])\n",
        "    Xi_pad = pad_sequences(Xi_token, padding='post', maxlen=max_len)\n",
        "    print('Model predicts')\n",
        "    preds = model.predict(Xi_pad)\n",
        "    print('Confidence :') \n",
        "    print(preds)\n",
        "    preds = preds\n",
        "    total = 0\n",
        "    for k in range(len(preds[0])):\n",
        "        print(encoder.inverse_transform([[k]]))\n",
        "        print('%f %%' %(preds[0,k]*100))\n",
        "        total += preds[0,k]*100\n",
        "    #print(total)\n",
        "    print('Predicted class: %s'%(encoder.inverse_transform(model.predict_classes(Xi_pad))))"
      ],
      "execution_count": null,
      "outputs": []
    },
    {
      "cell_type": "code",
      "metadata": {
        "id": "hydf39D26CeS",
        "outputId": "ee26bd50-055f-43cb-eda6-8aebb8c191a0",
        "colab": {
          "base_uri": "https://localhost:8080/",
          "height": 454
        }
      },
      "source": [
        "generate_response()\n"
      ],
      "execution_count": null,
      "outputs": [
        {
          "output_type": "stream",
          "text": [
            "Enter input news: আমি বাংলাদেশকে ভালবাসি\n",
            "Model predicts\n",
            "Confidence :\n",
            "[[5.9077766e-02 1.2981251e-03 3.0569660e-02 1.0069574e-03 3.8889259e-02\n",
            "  8.0468643e-01 6.3875243e-02 5.9646595e-04]]\n",
            "['bangladesh']\n",
            "5.907777 %\n",
            "['economy']\n",
            "0.129813 %\n",
            "['entertainment']\n",
            "3.056966 %\n",
            "['international']\n",
            "0.100696 %\n",
            "['life-style']\n",
            "3.888926 %\n",
            "['opinion']\n",
            "80.468643 %\n",
            "['sports']\n",
            "6.387524 %\n",
            "['technology']\n",
            "0.059647 %\n",
            "Predicted class: ['opinion']\n"
          ],
          "name": "stdout"
        },
        {
          "output_type": "stream",
          "text": [
            "/usr/local/lib/python3.6/dist-packages/sklearn/preprocessing/_label.py:289: DataConversionWarning: A column-vector y was passed when a 1d array was expected. Please change the shape of y to (n_samples, ), for example using ravel().\n",
            "  y = column_or_1d(y, warn=True)\n"
          ],
          "name": "stderr"
        }
      ]
    },
    {
      "cell_type": "code",
      "metadata": {
        "id": "WLTm3rCx6OST"
      },
      "source": [
        ""
      ],
      "execution_count": null,
      "outputs": []
    }
  ]
}